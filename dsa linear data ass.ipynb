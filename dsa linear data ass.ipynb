{
 "cells": [
  {
   "cell_type": "code",
   "execution_count": 1,
   "id": "a8b5614e",
   "metadata": {},
   "outputs": [
    {
     "name": "stdout",
     "output_type": "stream",
     "text": [
      "All pairs of an integer array whose sum is equal to a given number is :   [(1, 4), (2, 3), (-11, 16)]\n"
     ]
    }
   ],
   "source": [
    "# Q1. Write a program to find all pairs of an integer array whose sum is equal to a given number?\n",
    "\n",
    "\n",
    "pairs_of_array_elements = []\n",
    "array = [1,2,3,4,6,-11,16,21,-15,9,-5,8]\n",
    "Sum = 5\n",
    "for a in range(0,len(array)):\n",
    "    for b in range(a+1,len(array)):\n",
    "        if array[a] + array[b] == Sum:\n",
    "            pairs_of_array_elements.append((array[a] , array[b]))\n",
    "print(\"All pairs of an integer array whose sum is equal to a given number is :  \" , pairs_of_array_elements)"
   ]
  },
  {
   "cell_type": "code",
   "execution_count": 1,
   "id": "6f8bcf35",
   "metadata": {},
   "outputs": [
    {
     "name": "stdout",
     "output_type": "stream",
     "text": [
      "10 5\n",
      "The Reversed array is :  [10, 9, 8, 7, 6, 5, 4, 3, 2, 1]\n"
     ]
    }
   ],
   "source": [
    "# Q2. Write a program to reverse an array in place? In place means you cannot create a new array. \n",
    "# You have to update the original array.\n",
    "\n",
    "def Reverse_an_array(array):\n",
    "    LOA = len(array)\n",
    "    for k in range(LOA // 2):\n",
    "        array[k] , array[LOA - k - 1] = array[LOA - k - 1] , array[k]\n",
    "    print(LOA , LOA // 2)\n",
    "array = [1,2,3,4,5,6,7,8,9,10]\n",
    "Reverse_an_array(array)\n",
    "print(\"The Reversed array is : \" , array)"
   ]
  },
  {
   "cell_type": "code",
   "execution_count": 7,
   "id": "1fafffbd",
   "metadata": {},
   "outputs": [
    {
     "name": "stdout",
     "output_type": "stream",
     "text": [
      "Enter a string : sagar\n",
      "Enter a string : sagar\n",
      "True\n"
     ]
    }
   ],
   "source": [
    "#Q3. Write a program to check if two strings are a rotation of each other?\n",
    "\n",
    "def Rotation_of_string(anu1,anu2):\n",
    "    if len(anu1) != len(anu2):\n",
    "        return False\n",
    "    anu1anu1 = anu1+anu1\n",
    "    if anu2 in anu1anu1:\n",
    "        return True\n",
    "    else:\n",
    "        return False\n",
    "\n",
    "anu1 = input(\"Enter a string : \")\n",
    "anu2 = input(\"Enter a string : \")\n",
    "\n",
    "print(Rotation_of_string(anu1,anu2))"
   ]
  },
  {
   "cell_type": "code",
   "execution_count": 1,
   "id": "75477c16",
   "metadata": {},
   "outputs": [
    {
     "name": "stdout",
     "output_type": "stream",
     "text": [
      "Enter a string to check : Sagar patil\n",
      "First non-repeating character is S\n"
     ]
    }
   ],
   "source": [
    "# Q4. Write a program to print the first non-repeated character from a string?\n",
    "\n",
    "\n",
    "string = input(\"Enter a string to check : \")\n",
    "index = -1\n",
    "fnc = \"\"\n",
    "for i in string:\n",
    "    if string.count(i) == 1:\n",
    "        fnc += i\n",
    "        break\n",
    "    else:\n",
    "        index += 1\n",
    "if index == 1:\n",
    "    print(\"Either all characters are repeating or string is empty\")\n",
    "else:\n",
    "    print(\"First non-repeating character is\", fnc)"
   ]
  },
  {
   "cell_type": "code",
   "execution_count": 4,
   "id": "a2f1a368",
   "metadata": {},
   "outputs": [
    {
     "name": "stdout",
     "output_type": "stream",
     "text": [
      "Move disk 1 from rod A to rod C\n",
      "Move disk 2 from rod A to rod B\n",
      "Move disk 1 from rod C to rod B\n",
      "Move disk 3 from rod A to rod C\n",
      "Move disk 1 from rod B to rod A\n",
      "Move disk 2 from rod B to rod C\n",
      "Move disk 1 from rod A to rod C\n"
     ]
    }
   ],
   "source": [
    "# Q5. Read about the Tower of Hanoi algorithm. Write a program to implement it.\n",
    "\n",
    "\n",
    "def TowerOfHanoi(n, from_rod, to_rod, aux_rod):\n",
    "    if n == 0:\n",
    "        return\n",
    "    TowerOfHanoi(n-1, from_rod, aux_rod, to_rod)\n",
    "    print(\"Move disk\", n, \"from rod\", from_rod, \"to rod\", to_rod)\n",
    "    TowerOfHanoi(n-1, aux_rod, to_rod, from_rod)\n",
    "\n",
    "N = 3\n",
    "\n",
    "TowerOfHanoi(N, 'A', 'C', 'B')\n"
   ]
  },
  {
   "cell_type": "code",
   "execution_count": 5,
   "id": "c98391c1",
   "metadata": {},
   "outputs": [
    {
     "name": "stdout",
     "output_type": "stream",
     "text": [
      "Required Prefix is :  ABC/-AK/L-*\n"
     ]
    }
   ],
   "source": [
    "# Q6. Read about infix, prefix, and postfix expressions. Write a program to convert postfix to prefix expression.\n",
    "\n",
    "\n",
    "s = \"*-A/BC-/AKL\"\n",
    "stack = []\n",
    "\n",
    "operators = set(['+', '-', '*', '/', '^'])\n",
    "\n",
    "s = s[::-1]\n",
    "for i in s:\n",
    "    \n",
    "    if i in operators:\n",
    "        a = stack.pop()\n",
    "        b = stack.pop()\n",
    "        temp = a+b+i\n",
    "        stack.append(temp)\n",
    "\n",
    "    else:\n",
    "        stack.append(i)\n",
    "\n",
    "print(\"Required Prefix is : \" ,*stack)"
   ]
  },
  {
   "cell_type": "code",
   "execution_count": 6,
   "id": "db8b1beb",
   "metadata": {},
   "outputs": [
    {
     "name": "stdout",
     "output_type": "stream",
     "text": [
      "Infix expression is :   ((A-(B/C))*((A/K)-L))\n"
     ]
    }
   ],
   "source": [
    "# Q7. Write a program to convert prefix expression to infix expression.\n",
    "\n",
    "def prefixToInfix(prefix):\n",
    "    stack = []\n",
    "\n",
    "    i = len(prefix) - 1\n",
    "    while i >= 0:\n",
    "        if not isOperator(prefix[i]):\n",
    "            stack.append(prefix[i])\n",
    "            i -= 1\n",
    "        else:\n",
    "            str = \"(\" + stack.pop() + prefix[i] + stack.pop() + \")\"\n",
    "            stack.append(str)\n",
    "            i -= 1\n",
    "    return stack.pop()\n",
    "\n",
    "def isOperator(c):\n",
    "    if c == \"*\" or c == \"+\" or c == \"-\" or c == \"/\" or c == \"^\" or c == \"(\" or c == \")\":\n",
    "        return True\n",
    "    else:\n",
    "        return False\n",
    "if __name__==\"__main__\":\n",
    "    str = \"*-A/BC-/AKL\"\n",
    "    print(\"Infix expression is :  \" , prefixToInfix(str))"
   ]
  },
  {
   "cell_type": "code",
   "execution_count": 7,
   "id": "3d142b4b",
   "metadata": {},
   "outputs": [
    {
     "name": "stdout",
     "output_type": "stream",
     "text": [
      "False\n",
      "True\n",
      "Not Balanced\n"
     ]
    }
   ],
   "source": [
    "# Q8. Write a program to check if all the brackets are closed in a given code snippet.\n",
    "\n",
    "def areBracketsBalanced(expr):\n",
    "    stack = []\n",
    "    for char in expr:\n",
    "        if char in [\"(\", \"{\", \"[\"]:\n",
    "            # Push the element in the stack\n",
    "            stack.append(char)\n",
    "        else:\n",
    "            if not stack:\n",
    "                return False\n",
    "            current_char = stack.pop()\n",
    "            if current_char == '(':\n",
    "                if char != \")\":\n",
    "                    return False\n",
    "                if current_char == '{':\n",
    "                    if char != \"}\":\n",
    "                        return False\n",
    "                    if current_char == '[':\n",
    "                        if char != \"]\":\n",
    "                            return False\n",
    "\n",
    "if stack:\n",
    "    print(\"False\")\n",
    "print(\"True\")\n",
    "\n",
    "if __name__ == \"__main__\":\n",
    "    expr = \"{()}[]\"\n",
    "\n",
    "# Function call\n",
    "if areBracketsBalanced(expr):\n",
    "    print(\"Balanced\")\n",
    "else:\n",
    "    print(\"Not Balanced\")"
   ]
  },
  {
   "cell_type": "code",
   "execution_count": 8,
   "id": "b2abf958",
   "metadata": {},
   "outputs": [
    {
     "name": "stdout",
     "output_type": "stream",
     "text": [
      "Original Stack\n",
      "5\n",
      "4\n",
      "3\n",
      "2\n",
      "1\n",
      "\n",
      "Stack after Reversing\n",
      "1\n",
      "2\n",
      "3\n",
      "4\n",
      "5\n"
     ]
    }
   ],
   "source": [
    "# Q9. Write a program to reverse a stack.\n",
    "\n",
    "\n",
    "class Stack:\n",
    "    def __init__(self):\n",
    "        self.Elements = []\n",
    "    def push(self, value):\n",
    "        self.Elements.append(value)\n",
    "    def pop(self):\n",
    "        return self.Elements.pop()\n",
    "    def empty(self):\n",
    "        return self.Elements == []\n",
    "    def show(self):\n",
    "        for value in reversed(self.Elements):\n",
    "            print(value)\n",
    "\n",
    "def BottomInsert(s, value):\n",
    "    if s.empty():\n",
    "        s.push(value)\n",
    "    else:\n",
    "        popped = s.pop()\n",
    "        BottomInsert(s, value)\n",
    "        s.push(popped)\n",
    "\n",
    "\n",
    "def Reverse(s):\n",
    "    if s.empty():\n",
    "        pass\n",
    "    else:\n",
    "        popped = s.pop()\n",
    "        Reverse(s)\n",
    "        BottomInsert(s, popped)\n",
    "\n",
    "stk = Stack()\n",
    "\n",
    "stk.push(1)\n",
    "stk.push(2)\n",
    "stk.push(3)\n",
    "stk.push(4)\n",
    "stk.push(5)\n",
    "\n",
    "print(\"Original Stack\")\n",
    "stk.show()\n",
    "\n",
    "print(\"\\nStack after Reversing\")\n",
    "Reverse(stk)\n",
    "stk.show()"
   ]
  },
  {
   "cell_type": "code",
   "execution_count": 9,
   "id": "fedd5cc9",
   "metadata": {},
   "outputs": [
    {
     "name": "stdout",
     "output_type": "stream",
     "text": [
      "-3\n",
      "-2\n",
      "-2\n"
     ]
    }
   ],
   "source": [
    "# Q10. Write a program to find the smallest number using a stack.\n",
    "\n",
    "\n",
    "class MinStack(object):\n",
    "    min=float('inf')\n",
    "    def __init__(self):\n",
    "        self.min=float('inf')\n",
    "        self.stack = []\n",
    "    def push(self, x):\n",
    "        if x<=self.min:\n",
    "            self.stack.append(self.min)\n",
    "            self.min = x\n",
    "            self.stack.append(x)\n",
    "    def pop(self):\n",
    "        t = self.stack[-1]\n",
    "        self.stack.pop()\n",
    "        if self.min == t:\n",
    "            self.min = self.stack[-1]\n",
    "            self.stack.pop()\n",
    "    def top(self):\n",
    "        return self.stack[-1]\n",
    "    def getMin(self):\n",
    "        return self.min\n",
    "m = MinStack()\n",
    "m.push(-2)\n",
    "m.push(0)\n",
    "m.push(-3)\n",
    "print(m.getMin())\n",
    "m.pop()\n",
    "print(m.top())\n",
    "print(m.getMin())"
   ]
  },
  {
   "cell_type": "code",
   "execution_count": null,
   "id": "e7815f12",
   "metadata": {},
   "outputs": [],
   "source": []
  }
 ],
 "metadata": {
  "kernelspec": {
   "display_name": "Python 3 (ipykernel)",
   "language": "python",
   "name": "python3"
  },
  "language_info": {
   "codemirror_mode": {
    "name": "ipython",
    "version": 3
   },
   "file_extension": ".py",
   "mimetype": "text/x-python",
   "name": "python",
   "nbconvert_exporter": "python",
   "pygments_lexer": "ipython3",
   "version": "3.9.12"
  }
 },
 "nbformat": 4,
 "nbformat_minor": 5
}
